{
 "cells": [
  {
   "cell_type": "code",
   "execution_count": 6,
   "metadata": {},
   "outputs": [
    {
     "data": {
      "text/plain": [
       "60"
      ]
     },
     "execution_count": 6,
     "metadata": {},
     "output_type": "execute_result"
    }
   ],
   "source": [
    "# 2.1.1\n",
    "3 * 2 - 8 / 4\n",
    "25 * 6 / 3 + 17\n",
    "39021 - 276920 / 12040\n",
    "2 ** 6 - 10 % 6"
   ]
  },
  {
   "cell_type": "code",
   "execution_count": 7,
   "metadata": {},
   "outputs": [
    {
     "data": {
      "text/plain": [
       "16"
      ]
     },
     "execution_count": 7,
     "metadata": {},
     "output_type": "execute_result"
    }
   ],
   "source": [
    "#2.1.2\n",
    "12 - (5 * 7 + 1)\n",
    "5 * (8 + (10 - 6) / 2)\n",
    "48320 - ((365 - 5 *9) / 16) *987\n",
    "((3 ** 4 - 3 * 7) % 5 + 4)**2"
   ]
  },
  {
   "cell_type": "code",
   "execution_count": 8,
   "metadata": {},
   "outputs": [
    {
     "data": {
      "text/plain": [
       "False"
      ]
     },
     "execution_count": 8,
     "metadata": {},
     "output_type": "execute_result"
    }
   ],
   "source": [
    "#2.1.3\n",
    "1 < 3\n",
    "2 < 3\n",
    "3 <= 3\n",
    "\n",
    "1 > 3\n",
    "2 > 3\n",
    "3 != 3\n"
   ]
  },
  {
   "cell_type": "code",
   "execution_count": 11,
   "metadata": {},
   "outputs": [
    {
     "name": "stdout",
     "output_type": "stream",
     "text": [
      "False\n",
      "True\n",
      "True\n"
     ]
    }
   ],
   "source": [
    "#2.1.4\n",
    "print((5 <= 6) & (3 == 4))\n",
    "print((2 != 1) | (3 >= 4))\n",
    "print((5 <= 6) & ((0 == 0) | (3 < 4)))"
   ]
  },
  {
   "cell_type": "code",
   "execution_count": 13,
   "metadata": {},
   "outputs": [
    {
     "name": "stdout",
     "output_type": "stream",
     "text": [
      "2\n",
      "13\n",
      "True\n"
     ]
    }
   ],
   "source": [
    "#2.1.5\n",
    "x = 1\n",
    "y = 2\n",
    "z = 3\n",
    "j = 4\n",
    "k = 5\n",
    "i = 6\n",
    "print((2*x - 1)**2 + 1)\n",
    "print(x ** (2*y) * (z + 10))\n",
    "print(((j == 0) & (0 < k)) | i <= 100)"
   ]
  },
  {
   "cell_type": "code",
   "execution_count": 14,
   "metadata": {},
   "outputs": [
    {
     "name": "stdout",
     "output_type": "stream",
     "text": [
      "500000000\n",
      "5600.0\n",
      "-210.0\n",
      "-0.34\n"
     ]
    }
   ],
   "source": [
    "#2.2.1\n",
    "print(5*10**8)\n",
    "print(5.6 * 10 ** 3)\n",
    "print(-2.1 * 10 ** 2)\n",
    "print(-3.4 * 10 ** (-1))"
   ]
  },
  {
   "cell_type": "code",
   "execution_count": 18,
   "metadata": {},
   "outputs": [
    {
     "name": "stdout",
     "output_type": "stream",
     "text": [
      "Beautiful is better than ugly.\n",
      "Explicit is better than implicit.\n",
      "Simple is better than complex.\n",
      "Complex is better than complicated.\n",
      "Flat is better than nested.\n",
      "Sparse is better than dense.\n",
      "@@@@@@\n",
      "@    @\n",
      "@    @\n",
      "@    @\n",
      "@@@@@@\n"
     ]
    }
   ],
   "source": [
    "#2.3.1\n",
    "print('Beautiful is better than ugly.\\nExplicit is better than implicit.\\nSimple is better than complex.\\nComplex is better than complicated.\\nFlat is better than nested.\\nSparse is better than dense.')\n",
    "\n",
    "s = '@'\n",
    "n1 = 6\n",
    "print(s*n1)\n",
    "print(s,' '*2,s)\n",
    "print(s,' '*2,s)\n",
    "print(s,' '*2,s)\n",
    "print(s*n1)"
   ]
  },
  {
   "cell_type": "code",
   "execution_count": 23,
   "metadata": {},
   "outputs": [
    {
     "name": "stdout",
     "output_type": "stream",
     "text": [
      "20201225\n"
     ]
    }
   ],
   "source": [
    "#2.3.2\n",
    "s = \"2020-12-25\"\n",
    "s = s.replace('-','')\n",
    "print(s)"
   ]
  },
  {
   "cell_type": "code",
   "execution_count": 25,
   "metadata": {},
   "outputs": [
    {
     "name": "stdout",
     "output_type": "stream",
     "text": [
      "tom is 13 years old\n"
     ]
    },
    {
     "data": {
      "text/plain": [
       "'10 / 3 = 3.333333'"
      ]
     },
     "execution_count": 25,
     "metadata": {},
     "output_type": "execute_result"
    }
   ],
   "source": [
    "#2.4.1\n",
    "name = 'tom'\n",
    "age = 13\n",
    "print(name, 'is', age, 'years old')\n",
    "\n",
    "a = 10\n",
    "b = 3\n",
    "\"%d / %d = %f\" % (a, b, a/b)"
   ]
  },
  {
   "cell_type": "code",
   "execution_count": 36,
   "metadata": {},
   "outputs": [
    {
     "name": "stdout",
     "output_type": "stream",
     "text": [
      "```\n",
      "       3\n",
      "x     12\n",
      "---------\n",
      "      36\n",
      "```\n",
      "```\n",
      "   123,456\n",
      "+    7,890\n",
      "----------\n",
      "   131,346\n",
      "```\n"
     ]
    }
   ],
   "source": [
    "#2.4.2\n",
    "a = 3\n",
    "b = 12\n",
    "print('```')\n",
    "print('%8s' % a)\n",
    "print('x', end = '')\n",
    "print('%7s' % b)\n",
    "print('---------')\n",
    "print('%8s' % (a*b))\n",
    "print('```')\n",
    "\n",
    "a = 123456\n",
    "b = 7890\n",
    "print('```')\n",
    "print(f\"{a:>10,}\")\n",
    "print(f\"+{b:>9,}\")\n",
    "print(\"----------\")\n",
    "print(f\"{a + b:>10,}\")\n",
    "print('```')"
   ]
  },
  {
   "cell_type": "code",
   "execution_count": 37,
   "metadata": {},
   "outputs": [
    {
     "name": "stdout",
     "output_type": "stream",
     "text": [
      "         3\n",
      "x       12\n",
      "----------\n",
      "        36\n"
     ]
    }
   ],
   "source": [
    "#2.4.3\n",
    "a = 3\n",
    "b = 12\n",
    "print(f\"{a:>10}\")\n",
    "print(f\"x{b:>9}\")\n",
    "print(\"----------\")\n",
    "print(f\"{a * b:>10}\")"
   ]
  },
  {
   "cell_type": "code",
   "execution_count": 38,
   "metadata": {},
   "outputs": [
    {
     "name": "stdout",
     "output_type": "stream",
     "text": [
      "짝수\n"
     ]
    }
   ],
   "source": [
    "#2.5.1\n",
    "a = 2\n",
    "if a % 2 == 0:\n",
    "    print('짝수')\n",
    "else:\n",
    "    print('홀수')"
   ]
  },
  {
   "cell_type": "code",
   "execution_count": 39,
   "metadata": {},
   "outputs": [
    {
     "name": "stdout",
     "output_type": "stream",
     "text": [
      "2자리 수의 짝수이다.\n"
     ]
    }
   ],
   "source": [
    "#2.5.1\n",
    "b = 56\n",
    "if (b >= 10) & (b < 100) & (b % 2 == 0):\n",
    "    print(\"2자리 수의 짝수이다.\")\n",
    "else:\n",
    "    print(\"2자리 수의 짝수가 아니다.\")"
   ]
  },
  {
   "cell_type": "code",
   "execution_count": 40,
   "metadata": {},
   "outputs": [
    {
     "name": "stdout",
     "output_type": "stream",
     "text": [
      "윤년임\n"
     ]
    }
   ],
   "source": [
    "#2.5.2\n",
    "year = 2024\n",
    "if (year % 4 == 0) and (year % 100 != 0) or (year % 400 == 0):\n",
    "    print('윤년임')\n",
    "else:\n",
    "    print('윤년 아님')"
   ]
  },
  {
   "cell_type": "code",
   "execution_count": 41,
   "metadata": {},
   "outputs": [
    {
     "name": "stdout",
     "output_type": "stream",
     "text": [
      "A\n"
     ]
    }
   ],
   "source": [
    "#2.5.3\n",
    "c = 10\n",
    "\n",
    "if c >= 8:\n",
    "    print(\"A\")\n",
    "elif c >= 5:\n",
    "    print(\"B\")\n",
    "else:\n",
    "    print(\"C\")"
   ]
  },
  {
   "cell_type": "code",
   "execution_count": 43,
   "metadata": {},
   "outputs": [
    {
     "name": "stdout",
     "output_type": "stream",
     "text": [
      "4등급\n"
     ]
    }
   ],
   "source": [
    "#2.5.4\n",
    "w = 2\n",
    "if w > 10:\n",
    "    print('1등급')\n",
    "elif w > 7:\n",
    "    print('2등급')\n",
    "elif w>4:\n",
    "    print('3등급')\n",
    "else:\n",
    "    print('4등급')"
   ]
  },
  {
   "cell_type": "code",
   "execution_count": 48,
   "metadata": {},
   "outputs": [
    {
     "name": "stdout",
     "output_type": "stream",
     "text": [
      "1 1\n"
     ]
    }
   ],
   "source": [
    "#2.5.5\n",
    "xa = False\n",
    "xb = False\n",
    "if (xa + xb == 1) and xa == True:\n",
    "    YA = 10\n",
    "    YB = 0\n",
    "elif (xa + xb == 1) and xb == True:\n",
    "    YA = 0\n",
    "    YB = 10\n",
    "elif xa + xb == 2:\n",
    "    YA = 5\n",
    "    YB = 5\n",
    "else:\n",
    "    YA = 1\n",
    "    YB = 1\n",
    "print(YA, YB)"
   ]
  },
  {
   "cell_type": "code",
   "execution_count": 51,
   "metadata": {},
   "outputs": [
    {
     "name": "stdout",
     "output_type": "stream",
     "text": [
      "홀수\n"
     ]
    }
   ],
   "source": [
    "#2.6.1\n",
    "def func(n):\n",
    "    if n % 2 == 0:\n",
    "        print('짝수')\n",
    "    else:\n",
    "        print('홀수')\n",
    "\n",
    "func(19)"
   ]
  },
  {
   "cell_type": "code",
   "execution_count": 52,
   "metadata": {},
   "outputs": [
    {
     "name": "stdout",
     "output_type": "stream",
     "text": [
      "윤년임\n"
     ]
    }
   ],
   "source": [
    "#2.6.1\n",
    "def funcyear(year):\n",
    "    if (year % 4 == 0) and (year % 100 != 0) or (year % 400 == 0):\n",
    "        print('윤년임')\n",
    "    else:\n",
    "        print('윤년 아님')\n",
    "\n",
    "funcyear(2024)"
   ]
  },
  {
   "cell_type": "code",
   "execution_count": 53,
   "metadata": {},
   "outputs": [
    {
     "name": "stdout",
     "output_type": "stream",
     "text": [
      "30\n"
     ]
    }
   ],
   "source": [
    "#2.6.2\n",
    "def days1(year):\n",
    "    if year in (1, 3, 5, 7, 8, 10, 12):\n",
    "        print(31)\n",
    "    elif year == 2:\n",
    "        print(28)\n",
    "    else:\n",
    "        print(30)\n",
    "days1(11)"
   ]
  },
  {
   "cell_type": "code",
   "execution_count": 56,
   "metadata": {},
   "outputs": [
    {
     "name": "stdout",
     "output_type": "stream",
     "text": [
      "29\n"
     ]
    }
   ],
   "source": [
    "#2.6.3\n",
    "def days2(year, month):\n",
    "    if month in (1, 3, 5, 7, 8, 10, 12):\n",
    "        print(31)\n",
    "    elif month in (4, 6, 9, 11):\n",
    "        print(30)\n",
    "    else:\n",
    "        if (year % 4 == 0) and (year % 100 != 0) or (year % 400 == 0):\n",
    "            print(29)\n",
    "        else:\n",
    "            print(28)\n",
    "\n",
    "days2(2024,2)\n"
   ]
  },
  {
   "cell_type": "code",
   "execution_count": 58,
   "metadata": {},
   "outputs": [
    {
     "data": {
      "text/plain": [
       "2"
      ]
     },
     "execution_count": 58,
     "metadata": {},
     "output_type": "execute_result"
    }
   ],
   "source": [
    "#2.6.4\n",
    "def diffsum(a, b, c):\n",
    "    s1 = a + b + c\n",
    "    s2 = a**2 + b**2 + c**2\n",
    "    return abs(s1 - s2)\n",
    "\n",
    "diffsum(1,2,1)"
   ]
  },
  {
   "cell_type": "code",
   "execution_count": 61,
   "metadata": {},
   "outputs": [
    {
     "name": "stdout",
     "output_type": "stream",
     "text": [
      "8\n"
     ]
    }
   ],
   "source": [
    "#2.6.5\n",
    "m = 0\n",
    "def diffsum2(a,b,c):\n",
    "    s1 = a + b + c\n",
    "    s2 = a**2 + b**2 + c**2\n",
    "    result = abs(s1 - s2)\n",
    "    global m\n",
    "    if result > m:\n",
    "        m = result\n",
    "\n",
    "diffsum2(1,2,3)\n",
    "print(m)"
   ]
  },
  {
   "cell_type": "code",
   "execution_count": 1,
   "metadata": {},
   "outputs": [
    {
     "name": "stdout",
     "output_type": "stream",
     "text": [
      "\n",
      "*\n",
      "**\n",
      "***\n",
      "****\n",
      "*****\n",
      "******\n",
      "*******\n",
      "********\n",
      "*********\n",
      "**********\n"
     ]
    }
   ],
   "source": [
    "#2.7.1\n",
    "for i in range(11):\n",
    "    print('*'*i)"
   ]
  },
  {
   "cell_type": "code",
   "execution_count": 2,
   "metadata": {},
   "outputs": [
    {
     "name": "stdout",
     "output_type": "stream",
     "text": [
      "**********\n",
      "*********\n",
      "********\n",
      "*******\n",
      "******\n",
      "*****\n",
      "****\n",
      "***\n",
      "**\n",
      "*\n"
     ]
    }
   ],
   "source": [
    "#2.7.2\n",
    "for i in range(10, 0, -1):\n",
    "    print('*'*i)"
   ]
  },
  {
   "cell_type": "code",
   "execution_count": 3,
   "metadata": {},
   "outputs": [
    {
     "name": "stdout",
     "output_type": "stream",
     "text": [
      "\n",
      "*\n",
      "**\n",
      "***\n",
      "****\n",
      "*****\n",
      "******\n",
      "*******\n",
      "********\n",
      "*********\n",
      "**********\n",
      "*********\n",
      "********\n",
      "*******\n",
      "******\n",
      "*****\n",
      "****\n",
      "***\n",
      "**\n",
      "*\n"
     ]
    }
   ],
   "source": [
    "#2.7.3\n",
    "for i in range(20):\n",
    "    if i <= 10:\n",
    "        print('*'*i)\n",
    "    else:\n",
    "        print('*'*(20-i))"
   ]
  },
  {
   "cell_type": "code",
   "execution_count": 10,
   "metadata": {},
   "outputs": [
    {
     "name": "stdout",
     "output_type": "stream",
     "text": [
      "      \n",
      "     *\n",
      "    ***\n",
      "   *****\n",
      "  *******\n",
      " *********\n",
      "***********\n",
      " *********\n",
      "  *******\n",
      "   *****\n",
      "    ***\n",
      "     *\n"
     ]
    }
   ],
   "source": [
    "#2.7.4\n",
    "for i in range(12):\n",
    "    if i <= 6:\n",
    "        print(' '*(6-i), end = '')\n",
    "        print('*'*(2*i-1))\n",
    "    else:\n",
    "        print(' '*(i-6), end = '')\n",
    "        print('*'*(23-2*i))"
   ]
  },
  {
   "cell_type": "code",
   "execution_count": 14,
   "metadata": {},
   "outputs": [
    {
     "name": "stdout",
     "output_type": "stream",
     "text": [
      "10\n"
     ]
    }
   ],
   "source": [
    "#2.7.7\n",
    "s = 0\n",
    "k = 0\n",
    "n = 4\n",
    "for i in range(n):\n",
    "    s = s + i\n",
    "    k = s + k\n",
    "\n",
    "print(k)"
   ]
  },
  {
   "cell_type": "code",
   "execution_count": 15,
   "metadata": {},
   "outputs": [
    {
     "data": {
      "text/plain": [
       "3.0"
      ]
     },
     "execution_count": 15,
     "metadata": {},
     "output_type": "execute_result"
    }
   ],
   "source": [
    "#2.8.1\n",
    "l = [1,2,3,4,5]\n",
    "sum(l)/len(l)"
   ]
  },
  {
   "cell_type": "code",
   "execution_count": 25,
   "metadata": {},
   "outputs": [
    {
     "data": {
      "text/plain": [
       "30.166666666666668"
      ]
     },
     "execution_count": 25,
     "metadata": {},
     "output_type": "execute_result"
    }
   ],
   "source": [
    "#2.8.2\n",
    "days = {'01':31, '02':28, '03':31, '04':30, '05':31, '06':30, '07':31, '08':31, '09':30, '10':31, '11':30, '12':31}\n",
    "l = list(days.values())\n",
    "l2 = []\n",
    "for i in range(1,7):\n",
    "    l2.append(l[2*i-1])\n",
    "sum(l2)/len(l2)\n"
   ]
  },
  {
   "cell_type": "code",
   "execution_count": 30,
   "metadata": {},
   "outputs": [
    {
     "name": "stdout",
     "output_type": "stream",
     "text": [
      "['b', 'c', 'd', 'e', 'f', 'g', 'h', 'i', 'j', 'k']\n",
      "['f', 'g', 'h', 'i', 'j']\n"
     ]
    }
   ],
   "source": [
    "#2.9.1\n",
    "name = ['a', 'b', 'c', 'd', 'e', 'f', 'g', 'h', 'i', 'j']\n",
    "name.append('k')\n",
    "name.remove('a')\n",
    "name2 = name[4:9]\n",
    "print(name)\n",
    "print(name2)"
   ]
  },
  {
   "cell_type": "code",
   "execution_count": 34,
   "metadata": {},
   "outputs": [
    {
     "name": "stdout",
     "output_type": "stream",
     "text": [
      "37\n",
      "37\n",
      "3.3636363636363638\n"
     ]
    }
   ],
   "source": [
    "#2.10.1\n",
    "x = [4, 3, 2, 3, 4]\n",
    "w = [3, 3, 1, 2, 2]\n",
    "sw = sum(w)\n",
    "swx = 0\n",
    "for i in range(5):\n",
    "    swx = swx + x[i] * w[i]\n",
    "print(swx / sw)"
   ]
  },
  {
   "cell_type": "code",
   "execution_count": 36,
   "metadata": {},
   "outputs": [
    {
     "name": "stdout",
     "output_type": "stream",
     "text": [
      "1.6666666666666667\n"
     ]
    }
   ],
   "source": [
    "#2.10.2\n",
    "x = [6, 5, 4, 7, 3, 5]\n",
    "avg = sum(x) / len(x)\n",
    "sq = 0\n",
    "for i in range(6):\n",
    "    sq = sq + (avg - x[i])**2\n",
    "print(sq / len(x))"
   ]
  },
  {
   "cell_type": "code",
   "execution_count": 41,
   "metadata": {},
   "outputs": [
    {
     "name": "stdout",
     "output_type": "stream",
     "text": [
      "('길동', '철수', '영수', '방자')\n"
     ]
    }
   ],
   "source": [
    "#2.10.3\n",
    "\n",
    "x = [\n",
    "  [\"길동\", 90],\n",
    "  [\"철수\", 80],\n",
    "  [\"영수\", 70],\n",
    "  [\"방자\", 60],\n",
    "]\n",
    "x1, x2, x3, x4 = x\n",
    "names = list(zip(x1,x2,x3,x4))\n",
    "onlynames = names[0]\n",
    "print(onlynames)"
   ]
  },
  {
   "cell_type": "code",
   "execution_count": 54,
   "metadata": {},
   "outputs": [
    {
     "name": "stdout",
     "output_type": "stream",
     "text": [
      "철수         98\n",
      "영희         80\n",
      "순이        100\n",
      "돌이         70\n",
      "===============\n",
      "평균         87\n"
     ]
    }
   ],
   "source": [
    "#2.11.1\n",
    "data = {\n",
    "    \"철수\": 98,\n",
    "    \"영희\": 80,\n",
    "    \"순이\": 100,\n",
    "    \"돌이\": 70,\n",
    "}\n",
    "datakey = list(data.keys())\n",
    "dataval = list(data.values())\n",
    "for i in range(4):\n",
    "    print(datakey[i], f'{dataval[i]:>10}')\n",
    "print('='*15)\n",
    "print(f'평균{int(sum(dataval)/len(dataval)):>11}')\n"
   ]
  },
  {
   "cell_type": "code",
   "execution_count": 4,
   "metadata": {},
   "outputs": [
    {
     "data": {
      "text/plain": [
       "3.0"
      ]
     },
     "execution_count": 4,
     "metadata": {},
     "output_type": "execute_result"
    }
   ],
   "source": [
    "#2.12.1\n",
    "class tr(object):\n",
    "    def __init__(self, b, h):\n",
    "        self.b = b\n",
    "        self.h = h\n",
    "    \n",
    "    def area(self):\n",
    "        return self.b * self.h * 0.5\n",
    "\n",
    "a = tr(2,3)\n",
    "a.area()\n"
   ]
  },
  {
   "cell_type": "code",
   "execution_count": 6,
   "metadata": {},
   "outputs": [],
   "source": [
    "#2.12.2\n",
    "class sq(object):\n",
    "    def __init__(self, a, b, h):\n",
    "        self.a = a\n",
    "        self.b = b\n",
    "        self.h = h\n",
    "    def surface(self):\n",
    "        return (a*b + a*h + b*h) * 2"
   ]
  },
  {
   "cell_type": "code",
   "execution_count": 8,
   "metadata": {},
   "outputs": [],
   "source": [
    "#2.12.3\n",
    "class character(object):\n",
    "\n",
    "    def __init__(self):\n",
    "        self.life = 1000\n",
    "        self.strength = 10\n",
    "        self.intelligence = 10\n",
    "    \n",
    "    def attacked(self):\n",
    "        self.life -= 10\n",
    "        print('공격 받음! 생명력 =', self.life)\n",
    "    \n",
    "    def attack(self):\n",
    "        print('공격!')\n",
    "\n",
    "class warrior(character):\n",
    "    \n",
    "    def __init__(self):\n",
    "        super(warrior, self).__init__()\n",
    "        self.strength = 15\n",
    "        self.intelligence = 5\n",
    "        self.life = 1000\n",
    "    \n",
    "    def attack(self):\n",
    "        print('육탄 공격!')\n",
    "\n",
    "    def attacked(self):\n",
    "        self.life -= 5\n",
    "        print('공격 받음! 생명력 =', self.life)\n",
    "\n",
    "class wizard(character):\n",
    "\n",
    "    def __init__(self):\n",
    "        super(wizard, self).__init__()\n",
    "        self.strength = 5\n",
    "        self.intelligence = 15\n",
    "        self.life = 1000\n",
    "\n",
    "    def attack(self):\n",
    "        print('마법 공격!')\n",
    "    \n",
    "    def attacked(self):\n",
    "        self.life -= 3\n",
    "        print('공격 받음! 생명력 =', self.life)\n",
    "\n"
   ]
  },
  {
   "cell_type": "code",
   "execution_count": 16,
   "metadata": {},
   "outputs": [
    {
     "name": "stdout",
     "output_type": "stream",
     "text": [
      "speed = 20\n",
      "speed = 40\n",
      "speed = 60\n",
      "speed = 80\n",
      "speed = 100\n",
      "speed = 120\n",
      "speed = 140\n",
      "speed = 160\n",
      "speed = 160\n",
      "speed = 160\n",
      "speed = 140\n"
     ]
    }
   ],
   "source": [
    "#2.12.4\n",
    "class car(object):\n",
    "\n",
    "    def __init__(self):\n",
    "        self.max_speed = 160\n",
    "        self.speed = 0\n",
    "    \n",
    "    def speed_up(self):\n",
    "        self.speed += 20\n",
    "        if self.speed > self.max_speed:\n",
    "            self.speed = self.max_speed\n",
    "            print('speed =', self.max_speed)\n",
    "        else:\n",
    "            print('speed =', self.speed)\n",
    "\n",
    "    def speed_down(self):\n",
    "        self.speed -= 20\n",
    "        if self.speed < 0:\n",
    "            print('speed =', 0)\n",
    "        else:\n",
    "            print('speed =', self.speed)\n",
    "\n",
    "a = car()\n",
    "a.speed_up()\n",
    "a.speed_up()\n",
    "a.speed_up()\n",
    "a.speed_up()\n",
    "a.speed_up()\n",
    "a.speed_up()\n",
    "a.speed_up()\n",
    "a.speed_up()\n",
    "a.speed_up()\n",
    "a.speed_up()\n",
    "a.speed_down()\n"
   ]
  },
  {
   "cell_type": "code",
   "execution_count": 18,
   "metadata": {},
   "outputs": [
    {
     "name": "stdout",
     "output_type": "stream",
     "text": [
      "speed = 15\n",
      "speed = 30\n",
      "speed = 45\n",
      "speed = 60\n",
      "speed = 75\n",
      "speed = 90\n",
      "speed = 100\n",
      "speed = 100\n",
      "speed = 100\n",
      "speed = 100\n"
     ]
    }
   ],
   "source": [
    "#2.12.5\n",
    "class car(object):\n",
    "\n",
    "    def __init__(self):\n",
    "        self.max_speed = 160\n",
    "        self.speed = 0\n",
    "    \n",
    "    def speed_up(self):\n",
    "        self.speed += 20\n",
    "        if self.speed > self.max_speed:\n",
    "            self.speed = self.max_speed\n",
    "            print('speed =', self.max_speed)\n",
    "        else:\n",
    "            print('speed =', self.speed)\n",
    "\n",
    "    def speed_down(self):\n",
    "        self.speed -= 20\n",
    "        if self.speed < 0:\n",
    "            print('speed =', 0)\n",
    "        else:\n",
    "            print('speed =', self.speed)\n",
    "\n",
    "class sportcar(car):\n",
    "\n",
    "    def __init__(self):\n",
    "        super(sportcar, self).__init__()\n",
    "        self.max_speed = 200\n",
    "        self.speed = 0\n",
    "    \n",
    "    def speed_up(self):\n",
    "        self.speed += 45\n",
    "        if self.speed > self.max_speed:\n",
    "            self.speed = self.max_speed\n",
    "            print('speed =', self.max_speed)\n",
    "        else:\n",
    "            print('speed =', self.speed)\n",
    "\n",
    "    def speed_down(self):\n",
    "        self.speed -= 45\n",
    "        if self.speed < 0:\n",
    "            print('speed =', 0)\n",
    "        else:\n",
    "            print('speed =', self.speed)\n",
    "\n",
    "class truck(car):\n",
    "\n",
    "    def __init__(self):\n",
    "        super(truck, self).__init__()\n",
    "        self.max_speed = 100\n",
    "        self.speed = 0\n",
    "    \n",
    "    def speed_up(self):\n",
    "        self.speed += 15\n",
    "        if self.speed > self.max_speed:\n",
    "            self.speed = self.max_speed\n",
    "            print('speed =', self.max_speed)\n",
    "        else:\n",
    "            print('speed =', self.speed)\n",
    "\n",
    "    def speed_down(self):\n",
    "        self.speed -= 15\n",
    "        if self.speed < 0:\n",
    "            print('speed =', 0)\n",
    "        else:\n",
    "            print('speed =', self.speed)\n",
    "\n",
    "b = truck()\n",
    "b.speed_up()\n",
    "b.speed_up()\n",
    "b.speed_up()\n",
    "b.speed_up()\n",
    "b.speed_up()\n",
    "b.speed_up()\n",
    "b.speed_up()\n",
    "b.speed_up()\n",
    "b.speed_up()\n",
    "b.speed_up()\n"
   ]
  },
  {
   "cell_type": "code",
   "execution_count": 15,
   "metadata": {},
   "outputs": [
    {
     "name": "stdout",
     "output_type": "stream",
     "text": [
      "sejeans\n",
      "100\n",
      "200\n"
     ]
    },
    {
     "data": {
      "text/plain": [
       "id: c321027, name: sejeans"
      ]
     },
     "execution_count": 15,
     "metadata": {},
     "output_type": "execute_result"
    }
   ],
   "source": [
    "#2.12.6\n",
    "class student(object):\n",
    "    def __init__(self, id, name, ms, es):\n",
    "        self.id = id\n",
    "        self.name = name\n",
    "        self.ms = ms\n",
    "        self.es = es\n",
    "    \n",
    "    def avg(self):\n",
    "        return (self.ms + self.es) / 2\n",
    "    \n",
    "class student2(student):\n",
    "    def __repr__(self):\n",
    "        return \"id: %s, name: %s\" % (self.id, self.name)\n",
    "    \n",
    "    def __str__(self):\n",
    "        return self.name\n",
    "\n",
    "class student3(student):\n",
    "    def __getitem__(self, key):\n",
    "        if key == 'ms':\n",
    "            return self.ms\n",
    "        if key == 'es':\n",
    "            return self.es\n",
    "        \n",
    "\n",
    "s2 = student2('c321027', 'sejeans', 100 , 200)\n",
    "print(str(s2))\n",
    "s3 = student3('c321027', 'sejeans', 100 , 200)\n",
    "print(s3['ms'])\n",
    "print(s3['es'])\n",
    "s2\n"
   ]
  },
  {
   "cell_type": "code",
   "execution_count": 59,
   "metadata": {},
   "outputs": [
    {
     "name": "stdout",
     "output_type": "stream",
     "text": [
      "20\n"
     ]
    }
   ],
   "source": [
    "#2.14.1\n",
    "today = '2024-8-21'\n",
    "birthday = '2003-12-15'\n",
    "today = today.replace('-', '')\n",
    "birthday = birthday.replace('-','')\n",
    "yeartoday = int(today[:4])\n",
    "yearbirthday = int(birthday[:4])\n",
    "datetoday = int(today[4:])\n",
    "datebirthday = int(birthday[4:])\n",
    "\n",
    "year = yeartoday - yearbirthday\n",
    "\n",
    "if datetoday < datebirthday:\n",
    "    age = year - 1\n",
    "else:\n",
    "    age = year\n",
    "\n",
    "print(age)\n",
    "\n",
    "\n"
   ]
  },
  {
   "cell_type": "code",
   "execution_count": 60,
   "metadata": {},
   "outputs": [],
   "source": [
    "import datetime as dt"
   ]
  },
  {
   "cell_type": "code",
   "execution_count": 68,
   "metadata": {},
   "outputs": [
    {
     "name": "stdout",
     "output_type": "stream",
     "text": [
      "2003년 12월 15일 Monday요일\n"
     ]
    }
   ],
   "source": [
    "#2.15.1\n",
    "x = dt.datetime(2003, 12, 15)\n",
    "print(x.strftime('%Y년 %m월 %d일 %A요일'))"
   ]
  },
  {
   "cell_type": "code",
   "execution_count": 77,
   "metadata": {},
   "outputs": [
    {
     "name": "stdout",
     "output_type": "stream",
     "text": [
      "20\n"
     ]
    }
   ],
   "source": [
    "#2.15.2\n",
    "b = dt.date(2003,12,15)\n",
    "t = dt.date.today()\n",
    "age = t.year - b.year\n",
    "if t.month < b.month:\n",
    "    age = age - 1\n",
    "elif t.month == b.month and t.day < b.day:\n",
    "    age = age -1\n",
    "\n",
    "print(age)\n",
    "\n"
   ]
  },
  {
   "cell_type": "code",
   "execution_count": 78,
   "metadata": {},
   "outputs": [],
   "source": [
    "from dateutil.parser import parse"
   ]
  },
  {
   "cell_type": "code",
   "execution_count": 82,
   "metadata": {},
   "outputs": [
    {
     "name": "stdout",
     "output_type": "stream",
     "text": [
      "480 days, 2:25:35.306753\n",
      "691345.5884458834\n"
     ]
    }
   ],
   "source": [
    "#2.15.3\n",
    "birthd = dt.datetime(2025, 12, 15)\n",
    "today = dt.datetime.today()\n",
    "td = birthd - today\n",
    "print(td)\n",
    "\n",
    "print(td.total_seconds()/60)"
   ]
  },
  {
   "cell_type": "code",
   "execution_count": 83,
   "metadata": {},
   "outputs": [],
   "source": [
    "from dateutil.relativedelta import relativedelta"
   ]
  },
  {
   "cell_type": "code",
   "execution_count": 89,
   "metadata": {},
   "outputs": [
    {
     "name": "stdout",
     "output_type": "stream",
     "text": [
      "2000-02-29\n",
      "2001-02-28\n"
     ]
    }
   ],
   "source": [
    "#2.15.4\n",
    "t = dt.date(2000, 1, 31)\n",
    "print(t + relativedelta(month = 2))\n",
    "\n",
    "t2 = t + relativedelta(month = 2)\n",
    "print(t2 + relativedelta(months=12))\n"
   ]
  },
  {
   "cell_type": "code",
   "execution_count": null,
   "metadata": {},
   "outputs": [],
   "source": []
  },
  {
   "cell_type": "code",
   "execution_count": null,
   "metadata": {},
   "outputs": [],
   "source": []
  },
  {
   "cell_type": "code",
   "execution_count": null,
   "metadata": {},
   "outputs": [],
   "source": []
  },
  {
   "cell_type": "code",
   "execution_count": null,
   "metadata": {},
   "outputs": [],
   "source": []
  },
  {
   "cell_type": "code",
   "execution_count": null,
   "metadata": {},
   "outputs": [],
   "source": []
  }
 ],
 "metadata": {
  "kernelspec": {
   "display_name": "Python 3",
   "language": "python",
   "name": "python3"
  },
  "language_info": {
   "codemirror_mode": {
    "name": "ipython",
    "version": 3
   },
   "file_extension": ".py",
   "mimetype": "text/x-python",
   "name": "python",
   "nbconvert_exporter": "python",
   "pygments_lexer": "ipython3",
   "version": "3.12.2"
  }
 },
 "nbformat": 4,
 "nbformat_minor": 2
}
