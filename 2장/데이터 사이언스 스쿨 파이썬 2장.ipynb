{
 "cells": [
  {
   "cell_type": "code",
   "execution_count": 3,
   "metadata": {},
   "outputs": [
    {
     "name": "stdout",
     "output_type": "stream",
     "text": [
      "4.0\n",
      "67.0\n",
      "38998.0\n",
      "60\n"
     ]
    }
   ],
   "source": [
    "#연습 문제 2.1.1\n",
    "\n",
    "print(3*2-8/4)\n",
    "print(25*6/3+17)\n",
    "print(39021-276920/12040)\n",
    "print(2**6-10%6)"
   ]
  },
  {
   "cell_type": "code",
   "execution_count": 4,
   "metadata": {},
   "outputs": [
    {
     "name": "stdout",
     "output_type": "stream",
     "text": [
      "-24\n",
      "50.0\n",
      "28580.0\n",
      "16\n"
     ]
    }
   ],
   "source": [
    "#연습 문제 2.1.2\n",
    "print(12-(5*7+1))\n",
    "print(5*(8+(10-6)/2))\n",
    "print(48320-((365-5*9)/16)*987)\n",
    "print(((3**4-3*7)%5+4)**2)"
   ]
  },
  {
   "cell_type": "code",
   "execution_count": 7,
   "metadata": {},
   "outputs": [
    {
     "name": "stdout",
     "output_type": "stream",
     "text": [
      "True\n",
      "True\n",
      "True\n",
      "False\n",
      "False\n",
      "False\n"
     ]
    }
   ],
   "source": [
    "#연습 문제 2.1.3\n",
    "print(3<=4)\n",
    "print(3<=10)\n",
    "print(3<=11)\n",
    "\n",
    "print(3>=4)\n",
    "print(3>=10)\n",
    "print(3>=11)"
   ]
  },
  {
   "cell_type": "code",
   "execution_count": 10,
   "metadata": {},
   "outputs": [
    {
     "name": "stdout",
     "output_type": "stream",
     "text": [
      "False FALSE\n",
      "True TRUE\n",
      "True TRUE\n"
     ]
    }
   ],
   "source": [
    "#연습 문제 2.1.4\n",
    "\n",
    "print((5<=6)&(3==4), 'FALSE')\n",
    "print((2!=1)|(3>=4), 'TRUE')\n",
    "print((5<=6)&((0==0)|(3<4)), 'TRUE')\n",
    "\n"
   ]
  },
  {
   "cell_type": "code",
   "execution_count": 11,
   "metadata": {},
   "outputs": [
    {
     "name": "stdout",
     "output_type": "stream",
     "text": [
      "2\n",
      "11\n",
      "True\n"
     ]
    }
   ],
   "source": [
    "#연습 문제 2.1.5\n",
    "x = 1\n",
    "y = 1\n",
    "z = 1\n",
    "i = 1\n",
    "j = 1\n",
    "k = 1\n",
    "print((2*x-1)**2+1)\n",
    "print((x**(2*y))*(z+10))\n",
    "print(((j == 0)&(0 < k))|(i<=100))"
   ]
  },
  {
   "cell_type": "code",
   "execution_count": 16,
   "metadata": {},
   "outputs": [],
   "source": [
    "#연습 문제 2.2.1\n",
    "#1. 500000000.0\n",
    "#2. 5600.0\n",
    "#3. -210.0\n",
    "#4. -0.34"
   ]
  },
  {
   "cell_type": "code",
   "execution_count": null,
   "metadata": {},
   "outputs": [],
   "source": [
    "#연습 문제 2.2.2\n",
    "#1. 3141592e-6\n",
    "#2. 2718e-3\n",
    "#3. 14e-1\n",
    "#4. 173e-2"
   ]
  },
  {
   "cell_type": "code",
   "execution_count": null,
   "metadata": {},
   "outputs": [],
   "source": [
    "#연습 문제 2.2.3\n",
    "#1. 10**4+2*(10**3)+3*10+4*10**0\n",
    "#2. 10**4+10**2\n",
    "#3. 3*10**0+10**-1+4*10**-2\n",
    "#4. 2*10**-2+3*10**-3"
   ]
  },
  {
   "cell_type": "code",
   "execution_count": null,
   "metadata": {},
   "outputs": [],
   "source": [
    "#연습 문제 2.2.4\n",
    "#1. 2**3 + 2**2 + 2**0\n",
    "#2. 2**8 + 2**0\n",
    "#3. 2**-1 + 2**-2 + 0*2**-3 + 0*2**-4     반복\n",
    "#4. 2**0 + 2**-2"
   ]
  },
  {
   "cell_type": "code",
   "execution_count": 19,
   "metadata": {},
   "outputs": [
    {
     "name": "stdout",
     "output_type": "stream",
     "text": [
      "Beautiful is better than ugly.\n",
      "Explicit is better than implicit.\n",
      "Simple is better than complex.\n",
      "Complex is better than complicated.\n",
      "Flat is better than nested.\n",
      "Sparse is better than dense.\n",
      "@@@@@@\n",
      "@      @\n",
      "@      @\n",
      "@      @\n",
      "@@@@@@\n"
     ]
    }
   ],
   "source": [
    "#연습 문제 2.3.1\n",
    "print(\"\"\"Beautiful is better than ugly.\n",
    "Explicit is better than implicit.\n",
    "Simple is better than complex.\n",
    "Complex is better than complicated.\n",
    "Flat is better than nested.\n",
    "Sparse is better than dense.\"\"\")\n",
    "\n",
    "a = '@'\n",
    "n = 6\n",
    "\n",
    "print(a*n)\n",
    "print(a, \" \"*4, a)\n",
    "print(a, \" \"*4, a)\n",
    "print(a, \" \"*4, a)\n",
    "print(a*n)"
   ]
  },
  {
   "cell_type": "code",
   "execution_count": 20,
   "metadata": {},
   "outputs": [
    {
     "data": {
      "text/plain": [
       "'20201225'"
      ]
     },
     "execution_count": 20,
     "metadata": {},
     "output_type": "execute_result"
    }
   ],
   "source": [
    "#연습 문제 2.3.2\n",
    "\"2020-12-25\".replace('-','')"
   ]
  },
  {
   "cell_type": "code",
   "execution_count": 22,
   "metadata": {},
   "outputs": [
    {
     "name": "stdout",
     "output_type": "stream",
     "text": [
      "Tom is 13 years old\n",
      "10/3 = 3.333333\n"
     ]
    }
   ],
   "source": [
    "#연습 문제 2.4.1\n",
    "name = 'Tom'\n",
    "age = 13\n",
    "print('%s is %d years old'%(name, age))\n",
    "\n",
    "a= 10\n",
    "b = 3\n",
    "print('%d/%d = %f'%(a, b, a/b))"
   ]
  },
  {
   "cell_type": "code",
   "execution_count": 53,
   "metadata": {},
   "outputs": [
    {
     "name": "stdout",
     "output_type": "stream",
     "text": [
      "       3\n",
      "x     12\n",
      "--------\n",
      "      36\n",
      " 123,456\n",
      "+  7,890\n",
      "--------\n",
      " 131,346\n"
     ]
    }
   ],
   "source": [
    "#연습 문제 2.4.2\n",
    "a = 3\n",
    "b = 12\n",
    "print('%8d'%a)\n",
    "print('%s %6d'%('x',b))\n",
    "print('--------')\n",
    "print('%8d'%(a*b))\n",
    "\n",
    "a1 = 123456\n",
    "b1 = 7890\n",
    "\n",
    "print('%8s'%(format(a1, ',')))\n",
    "print('+%7s'%format(b1,','))\n",
    "print('--------')\n",
    "print('%8s'%format(a1+b1, ','))"
   ]
  },
  {
   "cell_type": "code",
   "execution_count": 63,
   "metadata": {},
   "outputs": [
    {
     "name": "stdout",
     "output_type": "stream",
     "text": [
      "       3\n",
      "x     12\n",
      "--------\n",
      "      36\n",
      " 123,456\n",
      "+  7,890\n",
      "--------\n",
      " 131,346\n"
     ]
    }
   ],
   "source": [
    "#연습 문제 2.4.3\n",
    "a = 3\n",
    "b = 12\n",
    "print(\"{:>8}\".format(a))\n",
    "print(\"x{:>7}\".format(b))\n",
    "print('--------')\n",
    "print(\"{:>8}\".format(a*b))\n",
    "\n",
    "a1 = 123456\n",
    "b1 = 7890\n",
    "print(\"{:>8,}\".format(a1))\n",
    "print(\"+{:>7,}\".format(b1))\n",
    "print('--------')\n",
    "print(\"{:>8,}\".format(a1+b1))"
   ]
  },
  {
   "cell_type": "code",
   "execution_count": 69,
   "metadata": {},
   "outputs": [
    {
     "name": "stdout",
     "output_type": "stream",
     "text": [
      "       3\n",
      "x     12\n",
      "--------\n",
      "      36\n",
      " 123,456\n",
      "+  7,890\n",
      "--------\n",
      " 131,346\n"
     ]
    }
   ],
   "source": [
    "#연습 문제 2.4.3\n",
    "a = 3\n",
    "b = 12\n",
    "print(f'{a:>8}')\n",
    "print(f'x{b:>7}')\n",
    "print('--------')\n",
    "print(f'{a*b:>8}')\n",
    "\n",
    "a1 = 123456\n",
    "b1 = 7890\n",
    "print(f'{a1:>8,}')\n",
    "print(f'+{b1:>7,}')\n",
    "print('--------')\n",
    "print(f'{a1+b1:>8,}')"
   ]
  },
  {
   "cell_type": "code",
   "execution_count": 70,
   "metadata": {},
   "outputs": [
    {
     "name": "stdout",
     "output_type": "stream",
     "text": [
      "짝수\n",
      "2자리 수의 짝수가 아니다.\n"
     ]
    }
   ],
   "source": [
    "#연습 문제 2.5.1\n",
    "a = 2\n",
    "\n",
    "if a % 2 == 0:\n",
    "    print(\"짝수\")\n",
    "else:\n",
    "    print(\"홀수\")\n",
    "\n",
    "b = 100\n",
    "\n",
    "if (b >= 10) & (b < 100) & (b % 2 == 0):\n",
    "    print(\"2자리 수의 짝수이다.\")\n",
    "else:\n",
    "    print(\"2자리 수의 짝수가 아니다.\")"
   ]
  },
  {
   "cell_type": "code",
   "execution_count": 74,
   "metadata": {},
   "outputs": [
    {
     "name": "stdout",
     "output_type": "stream",
     "text": [
      "윤년입니다.\n"
     ]
    }
   ],
   "source": [
    "#연습 문제 2.5.2\n",
    "y =2008\n",
    "\n",
    "if y%4 == 0 and y%100 != 0:\n",
    "    print('윤년입니다.')\n",
    "else:\n",
    "    print('윤년이 아닙니다.')"
   ]
  },
  {
   "cell_type": "code",
   "execution_count": 75,
   "metadata": {},
   "outputs": [
    {
     "name": "stdout",
     "output_type": "stream",
     "text": [
      "B\n"
     ]
    }
   ],
   "source": [
    "#연습 문제 2.5.3\n",
    "c = 7\n",
    "\n",
    "if c >= 8:\n",
    "    print(\"A\")\n",
    "elif c >= 5:\n",
    "    print(\"B\")\n",
    "else:\n",
    "    print(\"C\")"
   ]
  },
  {
   "cell_type": "code",
   "execution_count": 77,
   "metadata": {},
   "outputs": [
    {
     "name": "stdout",
     "output_type": "stream",
     "text": [
      "1등급\n"
     ]
    }
   ],
   "source": [
    "#연습 문제 2.5.4\n",
    "w = 11\n",
    "\n",
    "if w > 10:\n",
    "    print('1등급')\n",
    "elif w>7:\n",
    "    print('2등급')\n",
    "elif w>4:\n",
    "    print('3등급')\n",
    "else:\n",
    "    print('4등급')"
   ]
  },
  {
   "cell_type": "code",
   "execution_count": 87,
   "metadata": {},
   "outputs": [
    {
     "name": "stdout",
     "output_type": "stream",
     "text": [
      "1 10\n"
     ]
    }
   ],
   "source": [
    "#연습 문제 2.5.5\n",
    "xa= True\n",
    "xb = False\n",
    "\n",
    "\n",
    "if xa == True:\n",
    "    if xb == True:\n",
    "        ya = 5 \n",
    "        yb = 5\n",
    "    else:\n",
    "        ya = 1\n",
    "        yb = 10\n",
    "else:\n",
    "    if xb == True:\n",
    "        ya = 10\n",
    "        yb = 1\n",
    "    else:\n",
    "        ya = 5\n",
    "        yb = 5\n",
    "\n",
    "print(ya, yb)"
   ]
  },
  {
   "cell_type": "code",
   "execution_count": 88,
   "metadata": {},
   "outputs": [
    {
     "name": "stdout",
     "output_type": "stream",
     "text": [
      "짝수\n",
      "윤년입니다.\n"
     ]
    }
   ],
   "source": [
    "#연습 문제 2.6.1\n",
    "def f(a):\n",
    "    if a % 2 == 0:\n",
    "        print(\"짝수\")\n",
    "    else:\n",
    "        print(\"홀수\")\n",
    "\n",
    "f(12)\n",
    "\n",
    "def g(y):\n",
    "    if y%4 == 0 and y%100 != 0:\n",
    "        print('윤년입니다.')\n",
    "    else:\n",
    "        print('윤년이 아닙니다.')\n",
    "\n",
    "g(2004)"
   ]
  },
  {
   "cell_type": "code",
   "execution_count": 90,
   "metadata": {},
   "outputs": [
    {
     "name": "stdout",
     "output_type": "stream",
     "text": [
      "31\n"
     ]
    }
   ],
   "source": [
    "#연습 문제 2.6.2\n",
    "def days1(a):\n",
    "    if a == 4 or a == 6 or a == 9 or a == 11:\n",
    "        print(30)\n",
    "    elif a == 2:\n",
    "        print(28)\n",
    "    else:\n",
    "        print(31)\n",
    "\n",
    "days1(12)"
   ]
  },
  {
   "cell_type": "code",
   "execution_count": 91,
   "metadata": {},
   "outputs": [
    {
     "name": "stdout",
     "output_type": "stream",
     "text": [
      "29\n"
     ]
    }
   ],
   "source": [
    "#연습 문제 2.6.3\n",
    "def days(y, a):\n",
    "    if y%4 == 0 and y%100 != 0:\n",
    "        if a == 4 or a == 6 or a == 9 or a == 11:\n",
    "            print(30)\n",
    "        elif a == 2:\n",
    "            print(29)\n",
    "        else:\n",
    "            print(31)\n",
    "    else:\n",
    "        if a == 4 or a == 6 or a == 9 or a == 11:\n",
    "            print(30)\n",
    "        elif a == 2:\n",
    "            print(28)\n",
    "        else:\n",
    "            print(31)\n",
    "\n",
    "days(2004, 2)"
   ]
  },
  {
   "cell_type": "code",
   "execution_count": 94,
   "metadata": {},
   "outputs": [
    {
     "name": "stdout",
     "output_type": "stream",
     "text": [
      "8\n"
     ]
    }
   ],
   "source": [
    "#연습 문제 2.6.4\n",
    "def diffsum(a, b, c):\n",
    "    s1 = a+b+c\n",
    "    s2 = a**2 + b**2 + c**2\n",
    "    print(max(s1-s2, s2-s1))\n",
    "\n",
    "diffsum(1,2,3)"
   ]
  },
  {
   "cell_type": "code",
   "execution_count": 96,
   "metadata": {},
   "outputs": [
    {
     "name": "stdout",
     "output_type": "stream",
     "text": [
      "8\n",
      "8\n"
     ]
    }
   ],
   "source": [
    "#연습 문제 2.6.5\n",
    "m = 0\n",
    "def diffsum(a, b, c):\n",
    "    global m\n",
    "    s1 = a+b+c\n",
    "    s2 = a**2 + b**2 + c**2\n",
    "    s3 = max(s1-s2, s2-s1)\n",
    "    print(s3)\n",
    "    if s3 > m:\n",
    "        m = s3    \n",
    "\n",
    "diffsum(1,2,3)"
   ]
  },
  {
   "cell_type": "code",
   "execution_count": 97,
   "metadata": {},
   "outputs": [
    {
     "name": "stdout",
     "output_type": "stream",
     "text": [
      "*\n",
      "**\n",
      "***\n",
      "****\n",
      "*****\n",
      "******\n",
      "*******\n",
      "********\n",
      "*********\n"
     ]
    }
   ],
   "source": [
    "#연습 문제 2.7.1\n",
    "for i in range(1, 10):\n",
    "    print('*'*i)"
   ]
  },
  {
   "cell_type": "code",
   "execution_count": 98,
   "metadata": {},
   "outputs": [
    {
     "name": "stdout",
     "output_type": "stream",
     "text": [
      "*********\n",
      "********\n",
      "*******\n",
      "******\n",
      "*****\n",
      "****\n",
      "***\n",
      "**\n",
      "*\n"
     ]
    }
   ],
   "source": [
    "#연습 문제 2.7.2\n",
    "for i in range(1, 10):\n",
    "    print('*'*(10-i))"
   ]
  },
  {
   "cell_type": "code",
   "execution_count": 101,
   "metadata": {},
   "outputs": [
    {
     "name": "stdout",
     "output_type": "stream",
     "text": [
      "*\n",
      "**\n",
      "***\n",
      "****\n",
      "*****\n",
      "******\n",
      "*******\n",
      "********\n",
      "*********\n",
      "**********\n",
      "*********\n",
      "********\n",
      "*******\n",
      "******\n",
      "*****\n",
      "****\n",
      "***\n",
      "**\n",
      "*\n"
     ]
    }
   ],
   "source": [
    "#연습 문제 2.7.3\n",
    "for i in range(1, 20):\n",
    "    if i <= 10:\n",
    "        print('*'*i)\n",
    "    else:\n",
    "        print('*'*(20-i))"
   ]
  },
  {
   "cell_type": "code",
   "execution_count": 106,
   "metadata": {},
   "outputs": [
    {
     "name": "stdout",
     "output_type": "stream",
     "text": [
      "            *\n",
      "           ***\n",
      "          *****\n",
      "         *******\n",
      "        *********\n",
      "       ***********\n",
      "        *********\n",
      "         *******\n",
      "          *****\n",
      "           ***\n",
      "            *\n"
     ]
    }
   ],
   "source": [
    "#연습 문제 2.7.4\n",
    "for i in range(1, 12):\n",
    "    if i <= 6:\n",
    "        print(' '*(12-i),'*'*(2*i-1))\n",
    "    else:\n",
    "        print(' '*i,'*'*(2*(12-i)-1))\n"
   ]
  },
  {
   "cell_type": "code",
   "execution_count": 107,
   "metadata": {},
   "outputs": [
    {
     "name": "stdout",
     "output_type": "stream",
     "text": [
      "1024 [512.0]\n",
      "1024 [512.0, 2048]\n"
     ]
    }
   ],
   "source": [
    "#연습 문제 2.7.5\n",
    "a = 1024\n",
    "l1 = []\n",
    "l2 = []\n",
    "l3 = []\n",
    "l4 = []\n",
    "\n",
    "for i in [0.5, 2]:\n",
    "    a = a*i\n",
    "    l1.append(a)\n",
    "    a = 1024\n",
    "    for j in [0.5, 2]:"
   ]
  },
  {
   "cell_type": "code",
   "execution_count": null,
   "metadata": {},
   "outputs": [],
   "source": [
    "#연습 문제 2.7.6\n"
   ]
  },
  {
   "cell_type": "code",
   "execution_count": 111,
   "metadata": {},
   "outputs": [
    {
     "name": "stdout",
     "output_type": "stream",
     "text": [
      "55\n"
     ]
    }
   ],
   "source": [
    "#연습 문제 2.7.7\n",
    "n = 10\n",
    "a = 0\n",
    "for i in range(1, n+1):\n",
    "    a = a + i\n",
    "\n",
    "print(a)"
   ]
  },
  {
   "cell_type": "code",
   "execution_count": 114,
   "metadata": {},
   "outputs": [
    {
     "name": "stdout",
     "output_type": "stream",
     "text": [
      "3.0\n"
     ]
    }
   ],
   "source": [
    "#연습 문제 2.8.1\n",
    "l = [1, 2, 3, 4, 5]\n",
    "print(sum(l)/len(l))"
   ]
  },
  {
   "cell_type": "code",
   "execution_count": 115,
   "metadata": {},
   "outputs": [
    {
     "data": {
      "text/plain": [
       "30.166666666666668"
      ]
     },
     "execution_count": 115,
     "metadata": {},
     "output_type": "execute_result"
    }
   ],
   "source": [
    "#연습 문제 2.8.2\n",
    "a = {'01':31, '02':28,'03':31,'04':30,'05':31,'06':30,'07':31,'08':31,'09':30,'10':31,\n",
    "     '11':30,'12':31}\n",
    "(a['02']+a['04']+a['06']+a['08']+a['10']+a['12'])/6"
   ]
  },
  {
   "cell_type": "code",
   "execution_count": 118,
   "metadata": {},
   "outputs": [
    {
     "name": "stdout",
     "output_type": "stream",
     "text": [
      "['김경도', '박세호', '전홍배', '하정훈', '석혜성', '박희석', '이용오', '장정환', '김성원1', '음현식', '이유찬']\n",
      "['김경도', '박세호', '전홍배', '하정훈', '석혜성', '박희석', '이용오', '장정환', '음현식', '이유찬']\n",
      "['김경도', '박세호', '전홍배', '하정훈', '석혜성'] ['박희석', '이용오', '장정환', '음현식', '이유찬']\n"
     ]
    }
   ],
   "source": [
    "#연습 문제 2.9.1\n",
    "l = ['김경도','박세호','전홍배','하정훈','석혜성',\n",
    "     '박희석', '이용오','장정환','김성원1','음현식']\n",
    "l.append('이유찬')\n",
    "print(l)\n",
    "del l[8]\n",
    "print(l)\n",
    "l1 = l[:5]\n",
    "l2 = l[5:]\n",
    "print(l1, l2)\n"
   ]
  },
  {
   "cell_type": "code",
   "execution_count": 120,
   "metadata": {},
   "outputs": [
    {
     "name": "stdout",
     "output_type": "stream",
     "text": [
      "3.3636363636363638\n"
     ]
    }
   ],
   "source": [
    "#연습 문제 2.10.1\n",
    "x = [4,3,2,3,4]\n",
    "w = [3,3,1,2,2]\n",
    "l = []\n",
    "for i in range(5):\n",
    "    l.append(x[i]*w[i])\n",
    "\n",
    "print(sum(l)/sum(w))"
   ]
  },
  {
   "cell_type": "code",
   "execution_count": 121,
   "metadata": {},
   "outputs": [
    {
     "name": "stdout",
     "output_type": "stream",
     "text": [
      "1.6666666666666667\n"
     ]
    }
   ],
   "source": [
    "#연습 문제 2.10.2\n",
    "x = [6,5,4,7,3,5]\n",
    "mean = sum(x)/len(x)\n",
    "sum = 0\n",
    "\n",
    "for i in x:\n",
    "    sum = sum + (i-mean)**2\n",
    "    var = sum/len(x)\n",
    "print(var)\n"
   ]
  },
  {
   "cell_type": "code",
   "execution_count": 125,
   "metadata": {},
   "outputs": [
    {
     "name": "stdout",
     "output_type": "stream",
     "text": [
      "('길동', '철수', '영수', '방자')\n"
     ]
    }
   ],
   "source": [
    "#연습 문제 2.10.3\n",
    "x = [\n",
    "  [\"길동\", 90],\n",
    "  [\"철수\", 80],\n",
    "  [\"영수\", 70],\n",
    "  [\"방자\", 60],\n",
    "]\n",
    "x1, x2, x3, x4 = x\n",
    "print(list(zip(x1, x2, x3, x4))[0])"
   ]
  },
  {
   "cell_type": "code",
   "execution_count": 136,
   "metadata": {},
   "outputs": [
    {
     "name": "stdout",
     "output_type": "stream",
     "text": [
      "철수    98\n",
      "영희    80\n",
      "순이    100\n",
      "돌이    70\n",
      "=============\n",
      "평균    87.0\n"
     ]
    }
   ],
   "source": [
    "#연습 문제 2.11.3\n",
    "data = {\n",
    "    \"철수\": 98,\n",
    "    \"영희\": 80,\n",
    "    \"순이\": 100,\n",
    "    \"돌이\": 70,\n",
    "}\n",
    "sum = 0\n",
    "for k, v in data.items():\n",
    "    sum = sum + v\n",
    "    print(k,'  ', v)\n",
    "print('=============')\n",
    "print('평균','  ',sum/4)"
   ]
  },
  {
   "cell_type": "code",
   "execution_count": 188,
   "metadata": {},
   "outputs": [
    {
     "data": {
      "text/plain": [
       "40"
      ]
     },
     "execution_count": 188,
     "metadata": {},
     "output_type": "execute_result"
    }
   ],
   "source": [
    "#연습 문제 2.12.1\n",
    "class rec(object):\n",
    "    def __init__(self, b, h):\n",
    "        self.b = b\n",
    "        self.h = h\n",
    "    \n",
    "    def area(self):\n",
    "        return self.h*self.b\n",
    "\n",
    "r = rec(10, 4)\n",
    "r.area()"
   ]
  },
  {
   "cell_type": "code",
   "execution_count": 194,
   "metadata": {},
   "outputs": [
    {
     "name": "stdout",
     "output_type": "stream",
     "text": [
      "6 22\n"
     ]
    }
   ],
   "source": [
    "#연습 문제 2.12.2\n",
    "class shape(object):\n",
    "    def __init__(self, a, b, h):\n",
    "        self.a = a\n",
    "        self.b = b\n",
    "        self.h = h\n",
    "    \n",
    "    def volume(self):\n",
    "        return self.a*self.b*self.h\n",
    "    \n",
    "    def surface(self):\n",
    "        return 2*self.a*self.b+self.h*(self.a+self.b)*2\n",
    "    \n",
    "x = shape(1,2,3)\n",
    "print(x.volume(), x.surface())\n"
   ]
  },
  {
   "cell_type": "code",
   "execution_count": 197,
   "metadata": {},
   "outputs": [
    {
     "name": "stdout",
     "output_type": "stream",
     "text": [
      "공격받음! 생명력 = 990\n",
      "공격받음! 생명력 = 985\n"
     ]
    }
   ],
   "source": [
    "#연습 문제 2.12.3\n",
    "class warrior(object):\n",
    "    def __init__(self):\n",
    "        self.life = 1000\n",
    "    \n",
    "    def attacked(self):\n",
    "        self.life -= 10\n",
    "        print('공격받음! 생명력 =', self.life)\n",
    "\n",
    "class wizard(warrior):\n",
    "    def __init__(self):\n",
    "        super(wizard, self).__init__()\n",
    "        self.life = 1000\n",
    "    \n",
    "    def attacked(self):\n",
    "        self.life -= 15\n",
    "        print('공격받음! 생명력 =', self.life)\n",
    "\n",
    "\n",
    "a = warrior()\n",
    "b = wizard()\n",
    "\n",
    "a.attacked()\n",
    "b.attacked()"
   ]
  },
  {
   "cell_type": "code",
   "execution_count": 252,
   "metadata": {},
   "outputs": [
    {
     "name": "stdout",
     "output_type": "stream",
     "text": [
      "현재 속도: 20\n",
      "현재 속도: 40\n",
      "현재 속도: 60\n",
      "현재 속도: 40\n"
     ]
    }
   ],
   "source": [
    "#연습 문제 2.12.4\n",
    "class car(object):\n",
    "    def __init__(self):\n",
    "        self.max_speed = 160\n",
    "        self.speed = 0\n",
    "    \n",
    "    def speed_up(self):\n",
    "        self.speed += 20\n",
    "        if self.speed > self.max_speed:\n",
    "            print('최고 속도를 넘을 수 없습니다.')\n",
    "            self.speed = self.max_speed\n",
    "        print('현재 속도:',self.speed)\n",
    "    \n",
    "    def speed_down(self):\n",
    "        self.speed -= 20\n",
    "        if self.speed < 0:\n",
    "            print('정지했습니다.')\n",
    "            self.speed = 0\n",
    "        print('현재 속도:',self.speed)\n",
    "\n",
    "c = car()\n",
    "c.speed_up()\n",
    "c.speed_up()\n",
    "c.speed_up()\n",
    "c.speed_down()\n"
   ]
  },
  {
   "cell_type": "code",
   "execution_count": 249,
   "metadata": {},
   "outputs": [
    {
     "name": "stdout",
     "output_type": "stream",
     "text": [
      "현재 속도: 45\n",
      "현재 속도: 90\n",
      "현재 속도: 135\n",
      "현재 속도: 180\n",
      "최고 속도를 넘을 수 없습니다.\n",
      "현재 속도: 200\n",
      "현재 속도: 15\n",
      "현재 속도: 30\n",
      "현재 속도: 45\n",
      "현재 속도: 60\n"
     ]
    }
   ],
   "source": [
    "#연습 문제 2.12.5\n",
    "class sportcar(car):\n",
    "\n",
    "    def __init__(self):\n",
    "        super(sportcar, self).__init__()\n",
    "        self.max_speed = 200\n",
    "        \n",
    "    def speed_up(self):\n",
    "        self.speed += 45\n",
    "        if self.speed > self.max_speed:\n",
    "            print('최고 속도를 넘을 수 없습니다.')\n",
    "            self.speed = self.max_speed\n",
    "        print('현재 속도:',self.speed)\n",
    "    \n",
    "    def speed_down(self):\n",
    "        self.speed -= 45\n",
    "        if self.speed < 0:\n",
    "            print('정지했습니다.')\n",
    "            self.speed = 0\n",
    "        print('현재 속도:',self.speed)\n",
    "\n",
    "class truck(car):\n",
    "    def __init__(self):\n",
    "        super(truck, self).__init__()\n",
    "        self.max_speed = 100\n",
    "    \n",
    "    def speed_up(self):\n",
    "        self.speed += 15\n",
    "        if self.speed > self.max_speed:\n",
    "            print('최고 속도를 넘을 수 없습니다.')\n",
    "            self.speed = self.max_speed\n",
    "        print('현재 속도:',self.speed)\n",
    "    \n",
    "    def speed_down(self):\n",
    "        self.speed -= 15\n",
    "        if self.speed < 0:\n",
    "            print('정지했습니다.')\n",
    "            self.speed = 0\n",
    "       print('현재 속도:',self.speed)\n",
    "    \n",
    "sc = sportcar()\n",
    "sc.speed_up()\n",
    "sc.speed_up()\n",
    "sc.speed_up()\n",
    "sc.speed_up()\n",
    "sc.speed_up()\n",
    "\n",
    "tr = truck()\n",
    "tr.speed_up()\n",
    "tr.speed_up()\n",
    "tr.speed_up()\n",
    "tr.speed_up()\n"
   ]
  },
  {
   "cell_type": "code",
   "execution_count": 274,
   "metadata": {},
   "outputs": [
    {
     "name": "stdout",
     "output_type": "stream",
     "text": [
      "83.0\n",
      "고혁준\n",
      "88 78\n"
     ]
    },
    {
     "data": {
      "text/plain": [
       "ID:c321007, Name:고혁준"
      ]
     },
     "execution_count": 274,
     "metadata": {},
     "output_type": "execute_result"
    }
   ],
   "source": [
    "#연습 문제 2.12.6\n",
    "class complex1(object):\n",
    "\n",
    "    def __init__(self, id, name, math, english):\n",
    "        self.id = id\n",
    "        self.name = name\n",
    "        self.math = math\n",
    "        self.english = english\n",
    "    \n",
    "    def mean_grade(self):\n",
    "        return (self.math+self.english)/2\n",
    "\n",
    "class complex2(complex1):\n",
    "    \n",
    "    def __repr__(self):\n",
    "        return \"ID:%s, Name:%s\"%(self.id, self.name)\n",
    "    \n",
    "    def __str__(self):\n",
    "        return self.name\n",
    "\n",
    "class complex3(complex2):\n",
    "\n",
    "    def __getitem__(self, key):\n",
    "        if key == 'math':\n",
    "            return self.math\n",
    "        if key == 'english':\n",
    "            return self.english\n",
    "        \n",
    "s1 = complex1('c321007','고혁준', 88, 78)\n",
    "s2 = complex2('c321007','고혁준', 88, 78)\n",
    "s3 = complex3('c321007','고혁준', 88, 78)\n",
    "print(s1.mean_grade())\n",
    "print(str(s2))\n",
    "print(s3['math'], s3['english'])\n",
    "s2\n"
   ]
  },
  {
   "cell_type": "code",
   "execution_count": 185,
   "metadata": {},
   "outputs": [
    {
     "name": "stdout",
     "output_type": "stream",
     "text": [
      "19\n"
     ]
    }
   ],
   "source": [
    "#연습 문제 2.14.1\n",
    "today = '2024-08-21'\n",
    "birthday = '2004-12-30'\n",
    "\n",
    "a = today.replace('-','')[:4]\n",
    "a1 = today.replace('-','')[4:]\n",
    "\n",
    "b = birthday.replace('-','')[:4]\n",
    "b1 = birthday.replace('-','')[4:]\n",
    "\n",
    "year = int(a)-int(b)\n",
    "\n",
    "if  b1>a1:\n",
    "    year -= 1\n",
    "\n",
    "print(year)\n"
   ]
  },
  {
   "cell_type": "code",
   "execution_count": 164,
   "metadata": {},
   "outputs": [
    {
     "data": {
      "text/plain": [
       "'2004년 12월 30일 Thursday요일'"
      ]
     },
     "execution_count": 164,
     "metadata": {},
     "output_type": "execute_result"
    }
   ],
   "source": [
    "#연습 문제 2.15.1\n",
    "import datetime as dt\n",
    "birthday = dt.date(2004, 12, 30)\n",
    "birthday.strftime('%Y년 %m월 %d일 %A요일')\n"
   ]
  },
  {
   "cell_type": "code",
   "execution_count": 170,
   "metadata": {},
   "outputs": [
    {
     "name": "stdout",
     "output_type": "stream",
     "text": [
      "19\n"
     ]
    }
   ],
   "source": [
    "#연습 문제 2.15.2\n",
    "birthday = dt.date(2004, 12, 30)\n",
    "today = dt.date.today()\n",
    "year = today.year - birthday.year\n",
    "\n",
    "if today.month < birthday.month:\n",
    "    year -= 1\n",
    "elif today.month == birthday.month and today.day < birthday.day:\n",
    "    year -= 1\n",
    "\n",
    "print(year)\n"
   ]
  },
  {
   "cell_type": "code",
   "execution_count": 176,
   "metadata": {},
   "outputs": [
    {
     "name": "stdout",
     "output_type": "stream",
     "text": [
      "496 days, 0:00:00\n",
      "495 days, 23:10:22.159974\n"
     ]
    }
   ],
   "source": [
    "#연습 문제 2.15.3\n",
    "birthday = dt.date(2025, 12, 30)\n",
    "today = dt.date.today()\n",
    "\n",
    "delta = birthday - today\n",
    "print(delta)\n",
    "\n",
    "birthday = dt.datetime(2025, 12, 30)\n",
    "today = dt.datetime.today()\n",
    "delta = birthday - today\n",
    "print(delta)"
   ]
  },
  {
   "cell_type": "code",
   "execution_count": 181,
   "metadata": {},
   "outputs": [
    {
     "name": "stdout",
     "output_type": "stream",
     "text": [
      "2000-02-29\n",
      "2001-02-28\n"
     ]
    }
   ],
   "source": [
    "#연습 문제 2.15.4\n",
    "from dateutil.relativedelta import relativedelta\n",
    "x = dt.date(1999, 12, 31)\n",
    "print(x + relativedelta(months=2))\n",
    "print(x + relativedelta(months=2)+ relativedelta(months=12))\n"
   ]
  },
  {
   "cell_type": "code",
   "execution_count": null,
   "metadata": {},
   "outputs": [],
   "source": []
  }
 ],
 "metadata": {
  "kernelspec": {
   "display_name": "Python 3",
   "language": "python",
   "name": "python3"
  },
  "language_info": {
   "codemirror_mode": {
    "name": "ipython",
    "version": 3
   },
   "file_extension": ".py",
   "mimetype": "text/x-python",
   "name": "python",
   "nbconvert_exporter": "python",
   "pygments_lexer": "ipython3",
   "version": "3.12.2"
  }
 },
 "nbformat": 4,
 "nbformat_minor": 2
}
