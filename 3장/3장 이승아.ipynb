{
 "cells": [
  {
   "cell_type": "markdown",
   "metadata": {},
   "source": [
    "## 2.12 파이썬 객체지향 프로그래밍"
   ]
  },
  {
   "cell_type": "markdown",
   "metadata": {},
   "source": [
    "객체 - 서로 연관된 데이터와 그 데이터를 조작하기 위한 함수를 하나의 집합에 모아 놓은 것\n",
    "\n",
    "객체의 속성인 함수 - 메서드"
   ]
  },
  {
   "cell_type": "code",
   "execution_count": 1,
   "metadata": {},
   "outputs": [],
   "source": [
    "class Rectangle(object):\n",
    "\n",
    "    def __init__(self, h, v):\n",
    "        self.h = h\n",
    "        self.v = v\n",
    "\n",
    "    def area(self):\n",
    "        return self.h * self.v"
   ]
  },
  {
   "cell_type": "code",
   "execution_count": null,
   "metadata": {},
   "outputs": [],
   "source": [
    "r = Rectangle(10, 20)\n",
    "a = r.area()\n",
    "print(a)"
   ]
  },
  {
   "cell_type": "markdown",
   "metadata": {},
   "source": [
    "객체를 만들려면 객체를 바로 만들지 못하고 항상 클래스를 만들어야 함\n",
    "\n",
    "class 클래스이름(object):\n",
    "    \n",
    "    def __init__(self, 속성값1, 속성값2, 속성값3):\n",
    "        self.속성이름1 = 속성값1\n",
    "        self.속성이름2 = 속성값2\n",
    "        self.속성이름3 = 속성값3\n",
    "\n",
    "    def area(self):\n",
    "        return self.속성이름1 * self.속성이름2 "
   ]
  },
  {
   "cell_type": "code",
   "execution_count": 3,
   "metadata": {},
   "outputs": [
    {
     "name": "stdout",
     "output_type": "stream",
     "text": [
      "22\n"
     ]
    }
   ],
   "source": [
    "class nemogidung(object):\n",
    "    \n",
    "    def __init__(self, a, b, h):\n",
    "        self.a = a\n",
    "        self.b = b\n",
    "        self.h = h\n",
    "    \n",
    "    def surface(self):\n",
    "        return 2 * (self.a * self.b + self.b * self.h + self.h * self.a)\n",
    "    \n",
    "r = nemogidung(1,2,3)\n",
    "a = r.surface()\n",
    "print(a) "
   ]
  },
  {
   "cell_type": "markdown",
   "metadata": {},
   "source": [
    "## 3.1 넘파이 배열"
   ]
  },
  {
   "cell_type": "code",
   "execution_count": 6,
   "metadata": {},
   "outputs": [
    {
     "name": "stdout",
     "output_type": "stream",
     "text": [
      "[0 1 2 3 4 5 6 7 8 9]\n"
     ]
    },
    {
     "data": {
      "text/plain": [
       "numpy.ndarray"
      ]
     },
     "execution_count": 6,
     "metadata": {},
     "output_type": "execute_result"
    }
   ],
   "source": [
    "import numpy as np\n",
    "ar = np.array([0,1,2,3,4,5,6,7,8,9])\n",
    "print(ar)\n",
    "type(ar)"
   ]
  },
  {
   "cell_type": "code",
   "execution_count": 10,
   "metadata": {},
   "outputs": [
    {
     "data": {
      "text/plain": [
       "array([[10, 20, 30, 40],\n",
       "       [50, 60, 70, 80]])"
      ]
     },
     "execution_count": 10,
     "metadata": {},
     "output_type": "execute_result"
    }
   ],
   "source": [
    "# 연습문제 1\n",
    "c = np.array([[10,20,30,40], [50,60,70,80]])  \n",
    "c"
   ]
  },
  {
   "cell_type": "code",
   "execution_count": 12,
   "metadata": {},
   "outputs": [
    {
     "data": {
      "text/plain": [
       "array([[[ 1,  2,  3,  4],\n",
       "        [ 5,  6,  7,  8],\n",
       "        [ 9, 10, 11, 12]],\n",
       "\n",
       "       [[11, 12, 13, 14],\n",
       "        [15, 16, 17, 18],\n",
       "        [19, 20, 21, 22]]])"
      ]
     },
     "execution_count": 12,
     "metadata": {},
     "output_type": "execute_result"
    }
   ],
   "source": [
    "d = np.array([[[1, 2, 3, 4],\n",
    "               [5, 6, 7, 8],\n",
    "               [9, 10, 11, 12]],\n",
    "              [[11, 12, 13, 14],\n",
    "               [15, 16, 17, 18],\n",
    "               [19, 20, 21, 22]]])   # 2 x 3 x 4 array\n",
    "d"
   ]
  },
  {
   "cell_type": "markdown",
   "metadata": {},
   "source": [
    "ndim = 배열의 차원\n",
    "shape = 배열의 크기\n",
    "\n",
    "배열 슬라이싱 a[행, 열] 전체 슬라이싱을 위해선 : 작성"
   ]
  },
  {
   "cell_type": "code",
   "execution_count": 13,
   "metadata": {},
   "outputs": [],
   "source": [
    "m = np.array([[ 0,  1,  2,  3,  4],\n",
    "            [ 5,  6,  7,  8,  9],\n",
    "            [10, 11, 12, 13, 14]])"
   ]
  },
  {
   "cell_type": "code",
   "execution_count": 21,
   "metadata": {},
   "outputs": [
    {
     "name": "stdout",
     "output_type": "stream",
     "text": [
      "7\n",
      "14\n",
      "[6 7]\n",
      "[ 7 12]\n",
      "[[3 4]\n",
      " [8 9]]\n"
     ]
    }
   ],
   "source": [
    "# 연습문제 2\n",
    "print(m[1,2])\n",
    "print(m[-1,-1])\n",
    "print(m[1,1:3])\n",
    "print(m[1:3,2])\n",
    "print(m[0:2,3:5])"
   ]
  },
  {
   "cell_type": "code",
   "execution_count": 26,
   "metadata": {},
   "outputs": [
    {
     "name": "stdout",
     "output_type": "stream",
     "text": [
      "[ 3  6  9 12 15 18]\n",
      "[ 1  5  9 13 17]\n",
      "[9]\n"
     ]
    }
   ],
   "source": [
    "x = np.array([1, 2, 3, 4, 5, 6, 7, 8, 9, 10,\n",
    "             11, 12, 13, 14, 15, 16, 17, 18, 19, 20])\n",
    "p=x%3==0\n",
    "print(x[p])\n",
    "p=x%4==1\n",
    "print(x[p])\n",
    "p=(x%3==0)&(x%4==1)\n",
    "print(x[p])"
   ]
  },
  {
   "cell_type": "markdown",
   "metadata": {},
   "source": [
    "## 3.2 배열의 생성과 변형"
   ]
  },
  {
   "cell_type": "markdown",
   "metadata": {},
   "source": [
    "## 넘파이의 자료형"
   ]
  },
  {
   "cell_type": "markdown",
   "metadata": {},
   "source": [
    "크기가 정해져 있고 모든 값이 0인 배열을 생성하려면 \n",
    "a = np.zeros(5)\n",
    "로 하면 됨\n",
    "\n",
    "b = np.zeros((2, 3))\n",
    "이걸론 다차원도 가능"
   ]
  },
  {
   "cell_type": "markdown",
   "metadata": {},
   "source": [
    "np.arange(10)  # 0 .. n-1\n",
    "\n",
    "array([0, 1, 2, 3, 4, 5, 6, 7, 8, 9])\n",
    "\n",
    "np.arange(3, 21, 2)  # 시작, 끝(포함하지 않음), 단계\n",
    "\n",
    "array([ 3,  5,  7,  9, 11, 13, 15, 17, 19])\n",
    "\n",
    "T는 행-열을 바꾸는 2차원 배열의 전치 연산 가능\n",
    "reshape로 형태만 변경 가능 (행렬 형태 변경인 듯)\n",
    "\n",
    "flatten이랑 ravel쓰면 일차원 가능"
   ]
  },
  {
   "cell_type": "markdown",
   "metadata": {},
   "source": [
    "배열 연결도 가능\n",
    "hstack은 옆으로 연결\n",
    "vstack은 밑으로 연결 -> 리스트 형태로 넘겨야함 np.vstack ([a1,a2])\n",
    "dstack은 깊이로 연결?"
   ]
  },
  {
   "cell_type": "code",
   "execution_count": 39,
   "metadata": {},
   "outputs": [
    {
     "data": {
      "text/plain": [
       "array([[  0.,   0.,   0.,   1.,   1.],\n",
       "       [  0.,   0.,   0.,   1.,   1.],\n",
       "       [  0.,   0.,   0.,   1.,   1.],\n",
       "       [ 10.,  20.,  30.,  40.,  50.],\n",
       "       [ 60.,  70.,  80.,  90., 100.],\n",
       "       [110., 120., 130., 140., 150.],\n",
       "       [  0.,   0.,   0.,   1.,   1.],\n",
       "       [  0.,   0.,   0.,   1.,   1.],\n",
       "       [  0.,   0.,   0.,   1.,   1.],\n",
       "       [ 10.,  20.,  30.,  40.,  50.],\n",
       "       [ 60.,  70.,  80.,  90., 100.],\n",
       "       [110., 120., 130., 140., 150.]])"
      ]
     },
     "execution_count": 39,
     "metadata": {},
     "output_type": "execute_result"
    }
   ],
   "source": [
    "b1 = np.zeros((3, 3))\n",
    "b2 = np.ones((3, 2))\n",
    "b3 = np.hstack([b1, b2])\n",
    "b4 = np.arange(10, 151, 10)\n",
    "b5 = b4.reshape(3,5)\n",
    "b6 = np.vstack([b3,b5])\n",
    "np.vstack([b6,b6])"
   ]
  },
  {
   "cell_type": "markdown",
   "metadata": {},
   "source": [
    "## 3.3 배열의 연산"
   ]
  },
  {
   "cell_type": "code",
   "execution_count": 5,
   "metadata": {},
   "outputs": [
    {
     "data": {
      "text/plain": [
       "array([10002, 10004, 10006, ..., 29996, 29998, 30000])"
      ]
     },
     "execution_count": 5,
     "metadata": {},
     "output_type": "execute_result"
    }
   ],
   "source": [
    "import numpy as np\n",
    "\n",
    "x = np.arange(1, 10001)\n",
    "y = np.arange(10001, 20001)\n",
    "\n",
    "z = x + y\n",
    "z"
   ]
  },
  {
   "cell_type": "code",
   "execution_count": 8,
   "metadata": {},
   "outputs": [
    {
     "data": {
      "text/plain": [
       "array([False,  True,  True,  True])"
      ]
     },
     "execution_count": 8,
     "metadata": {},
     "output_type": "execute_result"
    }
   ],
   "source": [
    "a = np.array([1, 2, 3, 4])\n",
    "b = np.array([4, 2, 2, 4])\n",
    "c = np.array([1, 2, 3, 4])\n",
    "\n",
    "a >= b"
   ]
  },
  {
   "cell_type": "code",
   "execution_count": 9,
   "metadata": {},
   "outputs": [
    {
     "data": {
      "text/plain": [
       "False"
      ]
     },
     "execution_count": 9,
     "metadata": {},
     "output_type": "execute_result"
    }
   ],
   "source": [
    "np.all(a==b)"
   ]
  },
  {
   "cell_type": "code",
   "execution_count": 10,
   "metadata": {},
   "outputs": [
    {
     "data": {
      "text/plain": [
       "array([10, 20, 30, 40])"
      ]
     },
     "execution_count": 10,
     "metadata": {},
     "output_type": "execute_result"
    }
   ],
   "source": [
    "10*a"
   ]
  },
  {
   "cell_type": "code",
   "execution_count": 11,
   "metadata": {},
   "outputs": [
    {
     "data": {
      "text/plain": [
       "array([[ 0,  1,  2,  3],\n",
       "       [ 4,  5,  6,  7],\n",
       "       [ 8,  9, 10, 11]])"
      ]
     },
     "execution_count": 11,
     "metadata": {},
     "output_type": "execute_result"
    }
   ],
   "source": [
    "x = np.arange(12).reshape(3, 4)\n",
    "x"
   ]
  },
  {
   "cell_type": "code",
   "execution_count": 14,
   "metadata": {},
   "outputs": [],
   "source": [
    "import numpy as np\n",
    "\n",
    "# 5x6 형태의 데이터 행렬 생성\n",
    "a = np.random.rand(5, 6)\n",
    "\n",
    "# 전체 최댓값\n",
    "b = np.max(a)\n",
    "\n",
    "# 각 행의 합\n",
    "sum = np.sum(a, axis=1)\n",
    "\n",
    "# 각 행의 최댓값\n",
    "max = np.max(a, axis=1)\n",
    "\n",
    "# 각 열의 평균\n",
    "mean = np.mean(a, axis=0)\n",
    "\n",
    "# 각 열의 최솟값\n",
    "min = np.min(a, axis=0)\n"
   ]
  },
  {
   "cell_type": "code",
   "execution_count": 15,
   "metadata": {},
   "outputs": [
    {
     "data": {
      "text/plain": [
       "array([[  1,   4,   2,   3],\n",
       "       [ 46,  71,  99, 100],\n",
       "       [ 81, 100,  59,  90]])"
      ]
     },
     "execution_count": 15,
     "metadata": {},
     "output_type": "execute_result"
    }
   ],
   "source": [
    "a = np.array([[1, 2, 3, 4],\n",
    "                 [46, 99, 100, 71],\n",
    "                 [81, 59, 90, 100]])\n",
    "\n",
    "b = np.argsort(a[1])\n",
    "c = a[:, b]\n",
    "c"
   ]
  },
  {
   "cell_type": "markdown",
   "metadata": {},
   "source": [
    "## 3.4 기술 통계"
   ]
  },
  {
   "cell_type": "code",
   "execution_count": 17,
   "metadata": {},
   "outputs": [
    {
     "data": {
      "text/plain": [
       "115.23224852071006"
      ]
     },
     "execution_count": 17,
     "metadata": {},
     "output_type": "execute_result"
    }
   ],
   "source": [
    "x = np.array([18,   5,  10,  23,  19,  -8,  10,   0,   0,   5,   2,  15,   8,\n",
    "              2,   5,   4,  15,  -1,   4,  -7, -24,   7,   9,  -6,  23, -13])\n",
    "\n",
    "len(x)  \n",
    "np.mean(x)  # 평균\n",
    "np.var(x)  # 분산\n",
    "np.std(x) # 표준편차\n",
    "np.max(x) # 최대\n",
    "np.min(x) # 최소\n",
    "np.median(x) # 중앙값"
   ]
  },
  {
   "cell_type": "code",
   "execution_count": null,
   "metadata": {},
   "outputs": [],
   "source": [
    "np.percentile(x, 25)  # 1사분위 수\n",
    "# 0 / 25 / 50 / 75 / 100 (최소/1/2/3분위 수/최대)"
   ]
  },
  {
   "cell_type": "markdown",
   "metadata": {},
   "source": [
    "## 3.5 난수 발생과 카운팅"
   ]
  },
  {
   "cell_type": "code",
   "execution_count": 21,
   "metadata": {},
   "outputs": [
    {
     "data": {
      "text/plain": [
       "array([0.5488135 , 0.71518937, 0.60276338, 0.54488318, 0.4236548 ])"
      ]
     },
     "execution_count": 21,
     "metadata": {},
     "output_type": "execute_result"
    }
   ],
   "source": [
    "np.random.seed(0)\n",
    "np.random.rand(5)\n",
    "\n",
    "np.random.seed(0)\n",
    "np.random.rand(5)\n",
    "\n",
    "# 다시 해도 같은 수가 나옴"
   ]
  },
  {
   "cell_type": "code",
   "execution_count": 22,
   "metadata": {},
   "outputs": [
    {
     "data": {
      "text/plain": [
       "array([ 15, -24,  23,  -1,  10, -13,  -7,  15,   2,  18,  23,  -6,   4,\n",
       "         0,   2,   5,  -8,   5,   0,   9,   5,   8,  10,  19,   4,   7])"
      ]
     },
     "execution_count": 22,
     "metadata": {},
     "output_type": "execute_result"
    }
   ],
   "source": [
    "np.random.shuffle(x) # 순서 변경\n",
    "x"
   ]
  },
  {
   "cell_type": "code",
   "execution_count": 26,
   "metadata": {},
   "outputs": [
    {
     "data": {
      "text/plain": [
       "array([3, 3, 3, 3, 3, 3, 3, 2, 3, 2])"
      ]
     },
     "execution_count": 26,
     "metadata": {},
     "output_type": "execute_result"
    }
   ],
   "source": [
    "np.random.choice(5, 5, replace=False)  # shuffle 명령과 같다.\n",
    "np.random.choice(5, 3, replace=False)  # 3개만 선택\n",
    "np.random.choice(5, 10)  # 반복해서 10개 선택\n",
    "np.random.choice(5, 10, p=[0.1, 0, 0.3, 0.6, 0])  # 선택 확률을 다르게 해서 10개 선택"
   ]
  },
  {
   "cell_type": "code",
   "execution_count": 28,
   "metadata": {},
   "outputs": [
    {
     "data": {
      "text/plain": [
       "array([-0.475776  ,  1.44073112, -1.14907568,  0.80571455,  1.75610703,\n",
       "        0.97297991, -1.55111911,  0.19114348,  1.60477607, -1.42002593])"
      ]
     },
     "execution_count": 28,
     "metadata": {},
     "output_type": "execute_result"
    }
   ],
   "source": [
    "np.random.rand(10) # 난수 생성\n",
    "np.random.rand(3, 5)\n",
    "np.random.randn(10) # 난수긴 한데 기댓값이 0이고 표편이 1임 (표준 정규 분포)"
   ]
  },
  {
   "cell_type": "markdown",
   "metadata": {},
   "source": [
    "numpy.random.randint(low, high=None, size=None)\n",
    "high를 입력하지 않으면 0과 low사이의 숫자를, high를 입력하면 low와 high는 사이의 숫자를 출력한다. size는 난수의 숫자이다."
   ]
  },
  {
   "cell_type": "code",
   "execution_count": 30,
   "metadata": {},
   "outputs": [
    {
     "name": "stdout",
     "output_type": "stream",
     "text": [
      "[1 1 0 1 1 1 1 0 0 1]\n"
     ]
    }
   ],
   "source": [
    "a = np.random.choice([0, 1], size=10)\n",
    "print(a)"
   ]
  },
  {
   "cell_type": "code",
   "execution_count": 31,
   "metadata": {},
   "outputs": [
    {
     "name": "stdout",
     "output_type": "stream",
     "text": [
      "3.65\n"
     ]
    }
   ],
   "source": [
    "a = np.random.choice([1, 2, 3, 4, 5, 6], size=100)\n",
    "b = np.mean(a)\n",
    "print(b)"
   ]
  },
  {
   "cell_type": "code",
   "execution_count": 32,
   "metadata": {},
   "outputs": [
    {
     "name": "stdout",
     "output_type": "stream",
     "text": [
      "[ 9993.17583947 10164.39319037 10088.69338196 10005.3165318\n",
      "  9995.4660451   9929.14829827 10041.01364976  9932.57757959\n",
      "  9818.60436549  9775.61654747  9726.9308048   9914.61505254\n",
      " 10008.74647077 10017.50925255  9894.75113607  9978.29875127\n",
      "  9878.49427575  9725.89415138  9841.44067147  9872.63239059\n",
      "  9963.5453971   9995.30197149 10080.94477854 10015.31524798\n",
      "  9911.73256695  9979.29039279  9899.11580936  9830.85647829\n",
      "  9786.07373166  9787.78425505  9753.13609474  9619.03522386\n",
      "  9557.12534298  9344.63191685  9403.05749457  9252.41509212\n",
      "  9150.23296135  9155.00618762  9087.29914954  9227.51750175\n",
      "  9108.21890413  9132.5424819   9128.95496183  9022.32023251\n",
      "  9069.53192853  9053.97347925  9123.85119107  9198.98648463\n",
      "  9397.98226723  9523.58892692  9488.42956628  9465.71624162\n",
      "  9569.80689859  9632.5143723   9694.17513355  9537.42458278\n",
      "  9535.10449701  9464.7324786   9491.22659304  9481.91091716\n",
      "  9568.21327041  9598.56538577  9674.04158936  9628.92001196\n",
      "  9537.98003742  9498.86957954  9497.25283263  9533.26183157\n",
      "  9748.64766943  9744.5281686   9651.37583875  9617.98383724\n",
      "  9573.39525133  9619.48937588  9471.27257077  9477.26428667\n",
      "  9492.0968249   9514.13567367  9457.30621246  9434.80522594\n",
      "  9300.44785288  9254.56689438  9204.32741593  9242.62202441\n",
      "  9135.76045232  9207.12883955  9344.72795705  9151.29348771\n",
      "  9190.30167518  9252.51156566  9193.53263115  9157.00931727\n",
      "  9144.84143039  9117.60892668  9089.43433263  8937.09506724\n",
      "  9040.08003467  9137.67841946  9063.35580908  8930.44855458\n",
      "  8976.98198531  8925.29360298  8937.96333959  8909.42188273\n",
      "  8971.03398755  9033.36016935  8967.81434478  8843.75683354\n",
      "  8703.76561086  8756.89160135  8652.78448486  8608.93075798\n",
      "  8557.59449531  8553.09599926  8387.48412865  8403.3179035\n",
      "  8447.3421317   8454.81144791  8428.52660828  8436.73600721\n",
      "  8470.40249394  8235.55272795  8396.63291741  8429.38762175\n",
      "  8374.39357346  8341.65359913  8382.83982788  8373.10702063\n",
      "  8203.07563689  8372.42754783  8363.17261139  8448.49141621\n",
      "  8390.02364422  8518.92604234  8543.31944942  8595.33492315\n",
      "  8505.49189553  8608.50575999  8667.88879642  8780.73137989\n",
      "  8725.58069845  8683.60828905  8883.67139038  8789.50306801\n",
      "  8777.55376489  8877.34501549  8886.02039804  8937.82178094\n",
      "  8902.1197386   8935.06255683  8818.32356531  8964.54289377\n",
      "  8953.95002726  8893.04721078  8952.30897287  8911.063914\n",
      "  8792.16728884  8673.76163282  8733.93786236  8720.00081743\n",
      "  8708.34204033  8802.19565727  8703.01024487  8639.41928518\n",
      "  8606.16790472  8614.28796092  8610.65519067  8585.95232374\n",
      "  8580.66111024  8571.45360813  8509.7730518   8440.58919355\n",
      "  8463.75999157  8388.35507722  8291.27200858  8265.37900857\n",
      "  8252.34723212  8438.57989118  8379.11319541  8458.15007928\n",
      "  8521.34838996  8420.03424817  8485.14241369  8384.68845536\n",
      "  8161.72514771  8211.21128081  8067.03139514  8103.40841975\n",
      "  8047.98022307  8181.54054294  8268.96107265  8231.47077702\n",
      "  8174.85162507  8075.60259876  8039.9954392   8017.45487018\n",
      "  7988.21572984  8000.73357186  8047.01953555  8075.15629801\n",
      "  8013.45048181  7898.23377403  8006.00768931  7950.81033458\n",
      "  7898.94770763  7857.77923639  7712.95489997  7676.0889806\n",
      "  7639.27017352  7686.66101997  7740.34905339  7740.64093337\n",
      "  7812.77197005  7839.33265902  7838.10328612  7850.71700217\n",
      "  7835.74933593  7804.80991776  7783.91382412  7696.11039415\n",
      "  7717.69349738  7641.04726104  7705.35670369  7686.13503026\n",
      "  7689.93928139  7727.91502963  7777.62982486  7655.4725502\n",
      "  7639.63309606  7706.87553554  7576.00463357  7605.34502033\n",
      "  7433.80157853  7357.79044865  7360.6328037   7238.68808842\n",
      "  7167.35004004  7061.85847304  7178.2474294   7190.03610403\n",
      "  7230.82447983  7214.72323415  7189.22411165  7073.01215952\n",
      "  7052.37046737  6998.66721551  7058.71045594  7139.25753271\n",
      "  7243.96036414  7305.71888871]\n"
     ]
    }
   ],
   "source": [
    "a = 10000\n",
    "b = np.random.normal(0, 0.01, 250)\n",
    "c = a * np.cumprod(1 + b)\n",
    "print(c)\n",
    "# 출력: [10059.42994341, 10040.67307111, ...]  (예시)"
   ]
  }
 ],
 "metadata": {
  "kernelspec": {
   "display_name": "Python 3",
   "language": "python",
   "name": "python3"
  },
  "language_info": {
   "codemirror_mode": {
    "name": "ipython",
    "version": 3
   },
   "file_extension": ".py",
   "mimetype": "text/x-python",
   "name": "python",
   "nbconvert_exporter": "python",
   "pygments_lexer": "ipython3",
   "version": "3.12.0"
  }
 },
 "nbformat": 4,
 "nbformat_minor": 2
}
